{
  "nbformat": 4,
  "nbformat_minor": 0,
  "metadata": {
    "colab": {
      "provenance": []
    },
    "kernelspec": {
      "name": "python3",
      "display_name": "Python 3"
    },
    "language_info": {
      "name": "python"
    }
  },
  "cells": [
    {
      "cell_type": "markdown",
      "source": [
        "#                            **THEORY**\n",
        "**Question:1**  Explain the purpose and advantages of NumPy in scientific computing and data analysis. How does it enhance Python's capabilities for numerical operations?\n",
        "**Answer:** **Purpose:** NumPy (Numerical Python) is a library for efficient numerical computation in Python, designed to provide support for large, multi-dimensional arrays and matrices, and a wide range of high-performance mathematical functions to manipulate them. Its primary purpose is to facilitate scientific computing and data analysis in Python.\n",
        "\n",
        "**Advantages:**\n",
        "\n",
        "**Efficient Array Operations:** NumPy arrays are stored in a contiguous block of memory, allowing for fast and efficient operations, such as element-wise arithmetic, indexing, and reshaping.\n",
        "\n",
        "**Support for Advanced Mathematical Functions:** NumPy provides an extensive range of mathematical functions, including trigonometric, statistical, and linear algebra routines, making it an ideal choice for scientific computing and data analysis.\n",
        "\n",
        "**Enhancing Python’s Capabilities:**\n",
        "1.Efficient and flexible array operations\n",
        "\n",
        "2.Advanced mathematical functions\n",
        "\n",
        "3.Seamless integration with other scientific computing libraries\n",
        "\n",
        "4.Robust support for scientific computing and data analysis"
      ],
      "metadata": {
        "id": "Yq0P_RxvlNMp"
      }
    },
    {
      "cell_type": "markdown",
      "source": [
        "**Question:2**  Compare and contrast np.mean() and np.average() functions in NumPy. When would you use one over the\n",
        "other?\n",
        "\n",
        "**Answer:-**\n",
        "The np.mean() method returns the arithmetic mean, but the np.average() function returns the algebraic mean if no additional parameters are specified, but it may also be used to compute a weighted average.\n",
        "\n",
        "The term \"mean\" often refers to the \"arithmetic mean\", which is the sum of a\n",
        "set of numbers divided by the total number of the numbers in the set.\n",
        "\n",
        "The term \"average\" refers to a variety of computations, the \"arithmetic mean\" is one of them. Other terms include 'median,' 'mode,' 'weighted mean,' 'interquartile mean,' and a variety of others.\n"
      ],
      "metadata": {
        "id": "7M-pSQ9qnd-B"
      }
    },
    {
      "cell_type": "code",
      "source": [
        "import numpy as np\n",
        "arr=np.array([1,2,3,4,5,6,7,8,9])\n",
        "np.mean(arr)\n"
      ],
      "metadata": {
        "colab": {
          "base_uri": "https://localhost:8080/"
        },
        "id": "joArp5bjojqu",
        "outputId": "e1eb95d5-0c63-42bf-bc15-f37d3752216f"
      },
      "execution_count": 2,
      "outputs": [
        {
          "output_type": "execute_result",
          "data": {
            "text/plain": [
              "5.0"
            ]
          },
          "metadata": {},
          "execution_count": 2
        }
      ]
    },
    {
      "cell_type": "code",
      "source": [
        "array2 = np.arange(15)\n",
        "print('array:\\n', array2)\n",
        "print('average when no weights were specified : ',np.average(array2))\n",
        "print('average when weights were specified : ',np.average(array2,weights=range(15,0,-1)))\n"
      ],
      "metadata": {
        "colab": {
          "base_uri": "https://localhost:8080/"
        },
        "id": "XBzR61I7pbX9",
        "outputId": "ba410ddc-227f-45d7-90db-f5fddfaa6742"
      },
      "execution_count": 4,
      "outputs": [
        {
          "output_type": "stream",
          "name": "stdout",
          "text": [
            "array:\n",
            " [ 0  1  2  3  4  5  6  7  8  9 10 11 12 13 14]\n",
            "average when no weights were specified :  7.0\n",
            "average when weights were specified :  4.666666666666667\n"
          ]
        }
      ]
    },
    {
      "cell_type": "markdown",
      "source": [
        "**Question:3** Describe the methods for reversing a NumPy array along different axes. Provide examples for 1D and 2D\n",
        "arrays.\n",
        "\n",
        "**Answer:**\n",
        "Some of the most frequent methods for reversing a numpy array are as follows:\n",
        "\n",
        "\n",
        "*   Using the flip() function\n",
        "*   Using the reverse() function\n",
        "\n",
        "\n"
      ],
      "metadata": {
        "id": "omhtUHURp4q3"
      }
    },
    {
      "cell_type": "code",
      "source": [
        "# Example for 2D with the help of flip() function\n",
        "import numpy as np\n",
        "arr = np.array([[1 , 2, 3, 4], [5, 6, 7, 8], [9, 10, 11, 12]])\n",
        "reversed_arr = np.flip(arr)\n",
        "print(arr)\n",
        "print('Reversed array')\n",
        "print(reversed_arr)\n"
      ],
      "metadata": {
        "colab": {
          "base_uri": "https://localhost:8080/"
        },
        "id": "WPCsCbMIrytP",
        "outputId": "50b1e542-889e-4e72-f85e-ad51a6aa48d9"
      },
      "execution_count": 8,
      "outputs": [
        {
          "output_type": "stream",
          "name": "stdout",
          "text": [
            "[[ 1  2  3  4]\n",
            " [ 5  6  7  8]\n",
            " [ 9 10 11 12]]\n",
            "Reversed array\n",
            "[[12 11 10  9]\n",
            " [ 8  7  6  5]\n",
            " [ 4  3  2  1]]\n"
          ]
        }
      ]
    },
    {
      "cell_type": "code",
      "source": [
        "# Example for 1D with the help of reverse() function\n",
        "import array\n",
        "\n",
        "arr=array.array('i',[1,2,6,8,4,2])\n",
        "print(arr)\n",
        "arr.reverse()\n",
        "print(\"Reversed Array:\",arr)\n"
      ],
      "metadata": {
        "colab": {
          "base_uri": "https://localhost:8080/"
        },
        "id": "mDU4jZ7xshHT",
        "outputId": "004c22d3-9573-465f-b9a6-136151e9c990"
      },
      "execution_count": 13,
      "outputs": [
        {
          "output_type": "stream",
          "name": "stdout",
          "text": [
            "array('i', [1, 2, 6, 8, 4, 2])\n",
            "Reversed Array: array('i', [2, 4, 8, 6, 2, 1])\n"
          ]
        }
      ]
    },
    {
      "cell_type": "markdown",
      "source": [
        "**Question:4**   How can you determine the data type of elements in a NumPy array? Discuss the importance of data types in memory management and performance.\n",
        "\n",
        "**Answer:**\n",
        "NumPy has some extra data types, and refer to data types with one character, like i for integers, u for unsigned integers etc.\n",
        "\n",
        "\n",
        "*   i - integer\n",
        "*   b - boolean\n",
        "*   f - float\n",
        "*   S - string\n",
        "*   O - object\n",
        "\n",
        "\n",
        "\n",
        "\n",
        "\n",
        "\n",
        "\n",
        "\n"
      ],
      "metadata": {
        "id": "V6_a7n83tLOe"
      }
    },
    {
      "cell_type": "code",
      "source": [
        "# integer\n",
        "import numpy as np\n",
        "\n",
        "arr = np.array([1, 2, 3, 4])\n",
        "\n",
        "print(arr.dtype)"
      ],
      "metadata": {
        "colab": {
          "base_uri": "https://localhost:8080/"
        },
        "id": "zn61isWOGyI3",
        "outputId": "03ce5718-1798-430b-f527-2ceb72f53a49"
      },
      "execution_count": 1,
      "outputs": [
        {
          "output_type": "stream",
          "name": "stdout",
          "text": [
            "int64\n"
          ]
        }
      ]
    },
    {
      "cell_type": "code",
      "source": [
        "# string\n",
        "import numpy as np\n",
        "\n",
        "arr = np.array(['apple', 'banana', 'cherry'])\n",
        "\n",
        "print(arr.dtype)"
      ],
      "metadata": {
        "colab": {
          "base_uri": "https://localhost:8080/"
        },
        "id": "m7WeJLw7G489",
        "outputId": "f3f41f3e-98c2-491e-b07f-b74e6afa930c"
      },
      "execution_count": 2,
      "outputs": [
        {
          "output_type": "stream",
          "name": "stdout",
          "text": [
            "<U6\n"
          ]
        }
      ]
    },
    {
      "cell_type": "markdown",
      "source": [
        "**Importance of data types in memory management and performance.**\n",
        "\n",
        "1. Enable efficient memory allocation and deallocation\n",
        "2. Optimize cache performance\n",
        "3. Guide page replacement algorithms\n",
        "4. Influence memory access patterns and CPU performance\n",
        "5. Facilitate garbage collection and memory protection\n",
        "6. Inform code generation and optimization"
      ],
      "metadata": {
        "id": "T1K9KLlcHgMS"
      }
    },
    {
      "cell_type": "markdown",
      "source": [
        "**Question:6**  Define ndarrays in NumPy and explain their key features. How do they differ from standard Python lists?\n",
        "\n",
        "**Answer:-**\n",
        "In NumPy, an ndarray (N-dimensional array) is a multi-dimensional array of fixed size, composed of elements of the same data type. It is a fundamental data structure in NumPy, designed for efficient numerical computation and manipulation of large datasets.\n",
        "\n",
        "**Key features:-**\n",
        "\n",
        "**Homogeneous elements:** All elements in an ndarray have the same data type, such as integers, floats, or complex numbers.\n",
        "\n",
        "**Fixed size:** The size of an ndarray is determined at creation and cannot change dynamically like Python lists.\n",
        "\n",
        "**Multi-dimensional:** Ndarrays can have any number of dimensions (1D, 2D, 3D, etc.), allowing for efficient representation and manipulation of complex data structures.\n",
        "**Contiguous memory allocation:** Ndarrays store elements in contiguous blocks of memory, which improves cache locality and reduces memory access overhead.\n",
        "\n",
        "**Indexing and slicing:** Ndarrays support advanced indexing and slicing, allowing for flexible selection of sub-arrays and individual elements.\n",
        "\n",
        "Ndarrays in NumPy are designed for efficient numerical computation and data manipulation, offering features like vectorized operations, broadcasting, and contiguous memory allocation. While Python lists are suitable for general-purpose data storage and manipulation, ndarrays are specifically tailored for numerical computing and provide significant performance and memory advantages."
      ],
      "metadata": {
        "id": "d8bEPmqyH9by"
      }
    },
    {
      "cell_type": "markdown",
      "source": [
        "**Question:6** Analyze the performance benefits of NumPy arrays over Python lists for large-scale numerical operations.\n",
        "\n",
        "**Answer:-**\n",
        "\n",
        "**Numpy array:-**\n",
        "\n",
        "1. We can create an N-dimensional array in Python using Numpy.array().\n",
        "2. The array is by default Homogeneous, which means data inside an array must be of the same Datatype.\n",
        "3. Element-wise operation is possible.\n",
        "4. Numpy array has various functions, methods, and variables, to ease our task of matrix computation.\n",
        "5. Elements of an array are stored contiguously in memory. For example, all rows of a two-dimensioned array must have the same number of columns. A three-dimensional array must have the same number of rows and columns on each card."
      ],
      "metadata": {
        "id": "qmzvvAVLJeWl"
      }
    },
    {
      "cell_type": "code",
      "source": [
        "# One dimensional\n",
        "import numpy as np\n",
        "\n",
        "a = np.array([1, 2, 3])\n",
        "print(a)\n"
      ],
      "metadata": {
        "id": "AmlU-aPIKi2g"
      },
      "execution_count": null,
      "outputs": []
    },
    {
      "cell_type": "code",
      "source": [
        "# Multi dimensional\n",
        "import numpy as np\n",
        "\n",
        "a = np.array([(1, 2, 3), (4, 5, 6)])\n",
        "print(a)\n"
      ],
      "metadata": {
        "id": "zpxydD82KnSl"
      },
      "execution_count": null,
      "outputs": []
    },
    {
      "cell_type": "markdown",
      "source": [
        "**Python List:-**\n",
        "1. The list can be homogeneous or heterogeneous.\n",
        "2. Element-wise operation is not possible on the list.\n",
        "3. Python list is by default 1-dimensional. But we can create an N-Dimensional list. But then too it will be 1 D list storing another 1D list\n",
        "4. Elements of a list need not be contiguous in memory."
      ],
      "metadata": {
        "id": "uvSuuH4tLBl5"
      }
    },
    {
      "cell_type": "code",
      "source": [
        "list = [\"Pw\", \"skills\", \"Avaneesh\"]\n",
        "print(list)\n"
      ],
      "metadata": {
        "colab": {
          "base_uri": "https://localhost:8080/"
        },
        "id": "XvLlEbOILWnd",
        "outputId": "43cb12f0-fed4-4f79-a944-b523efba42e9"
      },
      "execution_count": 3,
      "outputs": [
        {
          "output_type": "stream",
          "name": "stdout",
          "text": [
            "['Pw', 'skills', 'Avaneesh']\n"
          ]
        }
      ]
    },
    {
      "cell_type": "markdown",
      "source": [
        "**Question:7**  Compare vstack() and hstack() functions in NumPy. Provide examples demonstrating their usage and\n",
        "output.\n",
        "\n",
        "**Answer:-**\n",
        "\n",
        "**vstack():** Vertically stacks arrays, concatenating them along the first axis (rows). This means that arrays must have the same number of columns.\n",
        "\n",
        "**hstack():** Horizontally stacks arrays, concatenating them along the second axis (columns). This means that arrays must have the same number of rows.\n"
      ],
      "metadata": {
        "id": "iChWRle_Ljwz"
      }
    },
    {
      "cell_type": "code",
      "source": [
        "# vstack\n",
        "import numpy as np\n",
        "\n",
        "a = np.array([[1], [2], [3]])\n",
        "b = np.array([[4], [5], [6]])\n",
        "c = np.vstack((a, b))\n",
        "\n",
        "print(c)"
      ],
      "metadata": {
        "colab": {
          "base_uri": "https://localhost:8080/"
        },
        "id": "I55uOAmQMFbQ",
        "outputId": "e3575c3a-48d0-4e9b-9a6b-a6e25f0b1c8f"
      },
      "execution_count": 4,
      "outputs": [
        {
          "output_type": "stream",
          "name": "stdout",
          "text": [
            "[[1]\n",
            " [2]\n",
            " [3]\n",
            " [4]\n",
            " [5]\n",
            " [6]]\n"
          ]
        }
      ]
    },
    {
      "cell_type": "code",
      "source": [
        "#hstack\n",
        "import numpy as np\n",
        "a = np.array([1, 2, 3])\n",
        "b = np.array([4, 5, 6])\n",
        "c = np.hstack((a, b))\n",
        "\n",
        "print(c)"
      ],
      "metadata": {
        "colab": {
          "base_uri": "https://localhost:8080/"
        },
        "id": "svOpE8c8MQek",
        "outputId": "f9a09515-969c-4832-c3e6-037f699bec07"
      },
      "execution_count": 5,
      "outputs": [
        {
          "output_type": "stream",
          "name": "stdout",
          "text": [
            "[1 2 3 4 5 6]\n"
          ]
        }
      ]
    },
    {
      "cell_type": "markdown",
      "source": [
        "**Question:8** Explain the differences between fliplr() and flipud() methods in NumPy, including their effects on various\n",
        "array dimensions.\n",
        "\n",
        "**Answer:-**\n",
        "\n",
        "**fliplr()**\n",
        "\n",
        "1. Flips an array along the 1st axis (left/right direction), preserving the 2nd and higher axes.\n",
        "\n",
        "2. Only works for 2-D and higher-dimensional arrays.\n",
        " 3.For 2-D arrays, it flips the columns (i.e., the 1st axis).\n",
        "For higher-dimensional arrays, it flips the 1st axis (e.g., the columns in a 3-D array).\n",
        "\n",
        "Example: a = np.array([[1, 2], [3, 4]])\n",
        "\n",
        "result: [[2, 1], [4, 3]]\n",
        "\n",
        "**flipud()**\n",
        "\n",
        "1. Flips an array along the 0th axis (up/down direction), preserving the 1st and higher axes.\n",
        "\n",
        "2. Works for 1-D and higher-dimensional arrays.\n",
        "\n",
        "3. For 1-D arrays, it simply reverses the order of elements.\n",
        "\n",
        "4. For 2-D arrays, it flips the rows (i.e., the 0th axis).\n",
        "\n",
        "5. For higher-dimensional arrays, it flips the 0th axis (e.g., the rows in a 3-D array).\n",
        "\n",
        "Example: a = np.array([[1, 2], [3, 4]])\n",
        "\n",
        "result: [[4, 3], [2, 1]]"
      ],
      "metadata": {
        "id": "oAcKhsyOMatV"
      }
    },
    {
      "cell_type": "markdown",
      "source": [
        "**Question:9**  Discuss the functionality of the array_split() method in NumPy. How does it handle uneven splits?\n",
        "\n",
        "**Answer:- **\n",
        "\n",
        "Splitting is reverse operation of Joining.\n",
        "\n",
        "Joining merges multiple arrays into one and Splitting breaks one array into multiple.\n",
        "\n",
        "We use array_split() for splitting arrays, we pass it the array we want to split and the number of splits."
      ],
      "metadata": {
        "id": "gcUi_-T8NrB2"
      }
    },
    {
      "cell_type": "code",
      "source": [
        "import numpy as np\n",
        "\n",
        "arr = np.array([1, 2, 3, 4, 5, 6])\n",
        "\n",
        "newarr = np.array_split(arr, 3)\n",
        "\n",
        "print(newarr)"
      ],
      "metadata": {
        "colab": {
          "base_uri": "https://localhost:8080/"
        },
        "id": "7kS46Wo-OfoO",
        "outputId": "5f942fee-2a23-4fe9-b16d-e01201589d35"
      },
      "execution_count": 6,
      "outputs": [
        {
          "output_type": "stream",
          "name": "stdout",
          "text": [
            "[array([1, 2]), array([3, 4]), array([5, 6])]\n"
          ]
        }
      ]
    },
    {
      "cell_type": "code",
      "source": [
        "#Split the 2-D array into three 2-D arrays.\n",
        "\n",
        "import numpy as np\n",
        "\n",
        "arr = np.array([[1, 2], [3, 4], [5, 6], [7, 8], [9, 10], [11, 12]])\n",
        "\n",
        "newarr = np.array_split(arr, 3)\n",
        "\n",
        "print(newarr)"
      ],
      "metadata": {
        "colab": {
          "base_uri": "https://localhost:8080/"
        },
        "id": "LXrDfzqtOsQ0",
        "outputId": "bc4d7be4-1f99-4d10-cb47-5063172c5ee2"
      },
      "execution_count": 7,
      "outputs": [
        {
          "output_type": "stream",
          "name": "stdout",
          "text": [
            "[array([[1, 2],\n",
            "       [3, 4]]), array([[5, 6],\n",
            "       [7, 8]]), array([[ 9, 10],\n",
            "       [11, 12]])]\n"
          ]
        }
      ]
    },
    {
      "cell_type": "markdown",
      "source": [
        "**Question:10** Explain the concepts of vectorization and broadcasting in NumPy. How do they contribute to efficient array\n",
        "operations?\n",
        "\n",
        "**Answer:-**"
      ],
      "metadata": {
        "id": "YgidIWUbQ0am"
      }
    },
    {
      "cell_type": "code",
      "source": [
        "#broadcasting\n",
        "import numpy as np\n",
        "\n",
        "a = np.array([10, 20, 30, 40])\n",
        "a + 5"
      ],
      "metadata": {
        "colab": {
          "base_uri": "https://localhost:8080/"
        },
        "id": "pGhXQTvrPeyv",
        "outputId": "6c02a11d-855a-43ac-8007-f5cc626b39b7"
      },
      "execution_count": 8,
      "outputs": [
        {
          "output_type": "execute_result",
          "data": {
            "text/plain": [
              "array([15, 25, 35, 45])"
            ]
          },
          "metadata": {},
          "execution_count": 8
        }
      ]
    },
    {
      "cell_type": "code",
      "source": [
        "#victorization\n",
        "d = np.zeros(a.size - 1)\n",
        "for i in range(len(a) - 1):\n",
        "    d[i] = a[i + 1] - a[i]\n",
        "d"
      ],
      "metadata": {
        "colab": {
          "base_uri": "https://localhost:8080/"
        },
        "id": "2sGnciRBQBwe",
        "outputId": "2985ea0e-174c-450f-c54f-24bd137c3039"
      },
      "execution_count": 9,
      "outputs": [
        {
          "output_type": "execute_result",
          "data": {
            "text/plain": [
              "array([10., 10., 10.])"
            ]
          },
          "metadata": {},
          "execution_count": 9
        }
      ]
    },
    {
      "cell_type": "markdown",
      "source": [
        "#                                   **Practical Questions:**\n"
      ],
      "metadata": {
        "id": "5URthqufQcF6"
      }
    },
    {
      "cell_type": "markdown",
      "source": [
        "**Question:1**  Create a 3x3 NumPy array with random integers between 1 and 100. Then, interchange its rows and columns."
      ],
      "metadata": {
        "id": "mdLbSjhqRAVF"
      }
    },
    {
      "cell_type": "code",
      "source": [
        "import numpy as np\n",
        "\n",
        "# Create a 3x3 array with random integers between 1 and 100\n",
        "arr = np.random.randint(1, 101, size=(3, 3))\n",
        "print(arr)\n",
        "print(\"After Interchange rows and columns\")\n",
        "# Interchange rows and columns\n",
        "arr_transposed = arr.transpose()  # or arr.T\n",
        "\n",
        "print(arr_transposed)"
      ],
      "metadata": {
        "colab": {
          "base_uri": "https://localhost:8080/"
        },
        "id": "2ZgYlNmrQljy",
        "outputId": "7a2b0f76-20e1-498e-c65e-774148839ab4"
      },
      "execution_count": 13,
      "outputs": [
        {
          "output_type": "stream",
          "name": "stdout",
          "text": [
            "[[95 91 76]\n",
            " [21 88 45]\n",
            " [58 34 75]]\n",
            "After Interchange rows and columns\n",
            "[[95 21 58]\n",
            " [91 88 34]\n",
            " [76 45 75]]\n"
          ]
        }
      ]
    },
    {
      "cell_type": "markdown",
      "source": [
        "**Question:2** Generate a 1D NumPy array with 10 elements. Reshape it into a 2x5 array, then into a 5x2 array."
      ],
      "metadata": {
        "id": "k2PZq3ClRt8w"
      }
    },
    {
      "cell_type": "code",
      "source": [
        "import numpy as np\n",
        "a  = np.random.randint(1,10, size= (2,5))\n",
        "print(a)\n",
        "print('After reshape')\n",
        "b = a.reshape(5,2)\n",
        "print(b)"
      ],
      "metadata": {
        "colab": {
          "base_uri": "https://localhost:8080/"
        },
        "id": "sA-bFVXHR2be",
        "outputId": "939e8bcf-e348-48a5-95a0-27420a920801"
      },
      "execution_count": 18,
      "outputs": [
        {
          "output_type": "stream",
          "name": "stdout",
          "text": [
            "[[6 9 1 2 7]\n",
            " [2 3 8 2 8]]\n",
            "After reshape\n",
            "[[6 9]\n",
            " [1 2]\n",
            " [7 2]\n",
            " [3 8]\n",
            " [2 8]]\n"
          ]
        }
      ]
    },
    {
      "cell_type": "markdown",
      "source": [
        "**Question:3** Create a 4x4 NumPy array with random float values. Add a border of zeros around it, resulting in a 6x6 array.\n"
      ],
      "metadata": {
        "id": "3CIclYcbTipO"
      }
    },
    {
      "cell_type": "code",
      "source": [
        "import numpy as np\n",
        "\n",
        "# Create a 4x4 array with random float values\n",
        "array = np.random.rand(4, 4)\n",
        "\n",
        "# Add a border of zeros around it\n",
        "bordered_array = np.pad(array, 1, mode='constant', constant_values=0)\n",
        "\n",
        "print(bordered_array)"
      ],
      "metadata": {
        "colab": {
          "base_uri": "https://localhost:8080/"
        },
        "id": "RK0TbVl_Twdq",
        "outputId": "1671e14e-b2ac-4ed2-b6e4-a61bf5efe0cd"
      },
      "execution_count": 19,
      "outputs": [
        {
          "output_type": "stream",
          "name": "stdout",
          "text": [
            "[[0.         0.         0.         0.         0.         0.        ]\n",
            " [0.         0.89360759 0.25192686 0.66682661 0.25227899 0.        ]\n",
            " [0.         0.34834053 0.04062013 0.27757836 0.69079126 0.        ]\n",
            " [0.         0.58133211 0.54246637 0.73972362 0.15502532 0.        ]\n",
            " [0.         0.65736684 0.04927529 0.51151804 0.20706572 0.        ]\n",
            " [0.         0.         0.         0.         0.         0.        ]]\n"
          ]
        }
      ]
    },
    {
      "cell_type": "markdown",
      "source": [
        "**Question:4** Using NumPy, create an array of integers from 10 to 60 with a step of 5."
      ],
      "metadata": {
        "id": "-THU2SdQUWmR"
      }
    },
    {
      "cell_type": "code",
      "source": [
        "import numpy as np\n",
        "\n",
        "arr = np.arange(10, 61, 5)\n",
        "print(arr)"
      ],
      "metadata": {
        "colab": {
          "base_uri": "https://localhost:8080/"
        },
        "id": "4xl5bcYDUhDu",
        "outputId": "e4e9156c-50d0-4343-c477-b5e6d78ab63d"
      },
      "execution_count": 20,
      "outputs": [
        {
          "output_type": "stream",
          "name": "stdout",
          "text": [
            "[10 15 20 25 30 35 40 45 50 55 60]\n"
          ]
        }
      ]
    },
    {
      "cell_type": "markdown",
      "source": [
        "**Question:5** Create a NumPy array of strings ['python', 'numpy', 'pandas']. Apply different case transformations\n",
        "(uppercase, lowercase, title case, etc.) to each element."
      ],
      "metadata": {
        "id": "GEC2kKTzUt2c"
      }
    },
    {
      "cell_type": "code",
      "source": [
        "a= np.array(['python', 'numpy', 'pandas'])\n",
        "print(a)\n",
        "print('Uppercase')\n",
        "print(np.char.upper(a))\n",
        "print('Lowercase')\n",
        "print(np.char.lower(a))\n",
        "print('Titlecase')\n",
        "print(np.char.title(a))"
      ],
      "metadata": {
        "colab": {
          "base_uri": "https://localhost:8080/"
        },
        "id": "pItdT3mCU1tY",
        "outputId": "438c26a5-6036-4160-c0c5-fabcdcf3e498"
      },
      "execution_count": 21,
      "outputs": [
        {
          "output_type": "stream",
          "name": "stdout",
          "text": [
            "['python' 'numpy' 'pandas']\n",
            "Uppercase\n",
            "['PYTHON' 'NUMPY' 'PANDAS']\n",
            "Lowercase\n",
            "['python' 'numpy' 'pandas']\n",
            "Titlecase\n",
            "['Python' 'Numpy' 'Pandas']\n"
          ]
        }
      ]
    },
    {
      "cell_type": "markdown",
      "source": [
        "**Question:6** Generate a NumPy array of words. Insert a space between each character of every word in the array"
      ],
      "metadata": {
        "id": "cE5E9KvwVihW"
      }
    },
    {
      "cell_type": "code",
      "source": [
        "import numpy as np\n",
        "# creating array of string\n",
        "x = np.array([\"Avaneesh\", \"Kumar\", \"Pandey\"])\n",
        "print(\"Printing the Original Array:\")\n",
        "print(x)\n",
        "# inserting space using np.char.join()\n",
        "r = np.char.join(\" \", x)\n",
        "print(\"Printing the array after inserting space between the elements\")\n",
        "print(r)\n"
      ],
      "metadata": {
        "colab": {
          "base_uri": "https://localhost:8080/"
        },
        "id": "M42qx31_VpZ1",
        "outputId": "05431537-23ed-4513-9e70-fef7a1d07544"
      },
      "execution_count": 25,
      "outputs": [
        {
          "output_type": "stream",
          "name": "stdout",
          "text": [
            "Printing the Original Array:\n",
            "['Avaneesh' 'Kumar' 'Pandey']\n",
            "Printing the array after inserting space between the elements\n",
            "['A v a n e e s h' 'K u m a r' 'P a n d e y']\n"
          ]
        }
      ]
    },
    {
      "cell_type": "markdown",
      "source": [
        "**Question:7 Create two 2D NumPy arrays and perform element-wise addition, subtraction, multiplication, and division."
      ],
      "metadata": {
        "id": "P_5n0ERRWuv2"
      }
    },
    {
      "cell_type": "code",
      "source": [
        "a = np.random.randint(1,3,(3,3))\n",
        "b = np.random.randint(1,3,(3,3))\n",
        "print(a)\n",
        "print(b)\n",
        "print('Addition')\n",
        "print(a+b)\n",
        "print('Subtraction')\n",
        "print(a-b)\n",
        "print('Multiplication')\n",
        "print(a*b)\n",
        "print('Division')\n",
        "print(a/b)"
      ],
      "metadata": {
        "colab": {
          "base_uri": "https://localhost:8080/"
        },
        "id": "GRlxee1lW2cy",
        "outputId": "892b30da-9afa-441a-f8a6-a7b6df63cc66"
      },
      "execution_count": 28,
      "outputs": [
        {
          "output_type": "stream",
          "name": "stdout",
          "text": [
            "[[1 1 1]\n",
            " [1 1 2]\n",
            " [1 1 1]]\n",
            "[[1 2 1]\n",
            " [2 2 1]\n",
            " [2 1 1]]\n",
            "Addition\n",
            "[[2 3 2]\n",
            " [3 3 3]\n",
            " [3 2 2]]\n",
            "Subtraction\n",
            "[[ 0 -1  0]\n",
            " [-1 -1  1]\n",
            " [-1  0  0]]\n",
            "Multiplication\n",
            "[[1 2 1]\n",
            " [2 2 2]\n",
            " [2 1 1]]\n",
            "Division\n",
            "[[1.  0.5 1. ]\n",
            " [0.5 0.5 2. ]\n",
            " [0.5 1.  1. ]]\n"
          ]
        }
      ]
    },
    {
      "cell_type": "markdown",
      "source": [
        "**Question:8**  Use NumPy to create a 5x5 identity matrix, then extract its diagonal elements"
      ],
      "metadata": {
        "id": "-PrdQ9Q6YUxr"
      }
    },
    {
      "cell_type": "code",
      "source": [
        "import numpy as np\n",
        "\n",
        "identity_matrix = np.eye(5)\n",
        "print(identity_matrix)\n",
        "print(\"Diagonal elements are\")\n",
        "diagonal_elements = np.diagonal(identity_matrix)\n",
        "print(diagonal_elements)"
      ],
      "metadata": {
        "colab": {
          "base_uri": "https://localhost:8080/"
        },
        "id": "Nvz_3FmGZML5",
        "outputId": "a8f3bcd7-0b8c-4b00-c14e-d4ecac91c14d"
      },
      "execution_count": 30,
      "outputs": [
        {
          "output_type": "stream",
          "name": "stdout",
          "text": [
            "[[1. 0. 0. 0. 0.]\n",
            " [0. 1. 0. 0. 0.]\n",
            " [0. 0. 1. 0. 0.]\n",
            " [0. 0. 0. 1. 0.]\n",
            " [0. 0. 0. 0. 1.]]\n",
            "Diagonal elements are\n",
            "[1. 1. 1. 1. 1.]\n"
          ]
        }
      ]
    },
    {
      "cell_type": "markdown",
      "source": [
        "**Question:9** Generate a NumPy array of 100 random integers between 0 and 1000. Find and display all prime numbers in\n",
        "this array"
      ],
      "metadata": {
        "id": "RcIfo0FyZzBX"
      }
    },
    {
      "cell_type": "code",
      "source": [
        "import numpy as np\n",
        "\n",
        "# Generate a NumPy array of 100 random integers between 0 and 1000\n",
        "random_numbers = np.random.randint(0, 1001, 100)\n",
        "\n",
        "# Function to check if a number is prime\n",
        "def is_prime(num):\n",
        "    if num <= 1:\n",
        "        return False\n",
        "    if num <= 3:\n",
        "        return True\n",
        "    if num % 2 == 0 or num % 3 == 0:\n",
        "        return False\n",
        "    i = 5\n",
        "    while i * i <= num:\n",
        "        if num % i == 0 or num % (i + 2) == 0:\n",
        "            return False\n",
        "        i += 6\n",
        "    return True\n",
        "\n",
        "# Find prime numbers in the array\n",
        "prime_numbers = [num for num in random_numbers if is_prime(num)]\n",
        "\n",
        "# Display the prime numbers\n",
        "print(\"Prime numbers in the array:\", prime_numbers)"
      ],
      "metadata": {
        "colab": {
          "base_uri": "https://localhost:8080/"
        },
        "id": "mbV7tOb7cmqW",
        "outputId": "df410951-94df-40c5-add3-1c6105706ad4"
      },
      "execution_count": 37,
      "outputs": [
        {
          "output_type": "stream",
          "name": "stdout",
          "text": [
            "Prime numbers in the array: [577, 383, 787, 269, 739, 97, 73, 97, 491, 593, 163, 409, 97, 953, 821]\n"
          ]
        }
      ]
    },
    {
      "cell_type": "markdown",
      "source": [
        "**Question:10** Create a NumPy array representing daily temperatures for a month. Calculate and display the weekly\n",
        "averages."
      ],
      "metadata": {
        "id": "EsCjV4qrc4TZ"
      }
    },
    {
      "cell_type": "code",
      "source": [
        "import numpy as np\n",
        "daily_temperatures = np.random.randint(30, 47, 30)\n",
        "weekly_averages = np.reshape(daily_temperatures, (6, 5)).mean(axis=1)\n",
        "\n",
        "# Display the weekly averages\n",
        "print(\"Weekly average temperatures:\")\n",
        "print(weekly_averages)"
      ],
      "metadata": {
        "colab": {
          "base_uri": "https://localhost:8080/"
        },
        "id": "jViLCCLXdBxM",
        "outputId": "9032c538-f922-4b59-f702-3e270003c439"
      },
      "execution_count": 39,
      "outputs": [
        {
          "output_type": "stream",
          "name": "stdout",
          "text": [
            "Weekly average temperatures:\n",
            "[39.  39.6 37.8 37.8 37.2 36.8]\n"
          ]
        }
      ]
    }
  ]
}